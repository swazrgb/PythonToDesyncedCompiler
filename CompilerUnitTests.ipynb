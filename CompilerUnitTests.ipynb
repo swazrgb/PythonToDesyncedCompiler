{
 "cells": [
  {
   "cell_type": "code",
   "execution_count": 29,
   "id": "c3f59600-debe-43c2-83fd-8d202b084689",
   "metadata": {},
   "outputs": [
    {
     "name": "stdout",
     "output_type": "stream",
     "text": [
      "instructions initialized\n"
     ]
    },
    {
     "data": {
      "text/plain": [
       "'\\nclass TestUrl(unittest.TestCase):\\n    def test_make_url_v2(self):\\n        date = datetime.date(2020, 1, 1)\\n        self.assertEqual(make_url(date), \"https://api.example.com/v2/2020/1/1\")\\n        \\n    def test_make_url_v1(self):\\n        date = datetime.date(2019, 12, 31)\\n        self.assertEqual(make_url(date), \"https://api.example.com/v1/2019-12-31\")\\n        \\nres = unittest.main(argv=[\\'\\'], verbosity=3, exit=False)\\n'"
      ]
     },
     "execution_count": 29,
     "metadata": {},
     "output_type": "execute_result"
    }
   ],
   "source": [
    "import unittest\n",
    "from public.desyncedcompiler import *\n",
    "from astrender import astrender\n",
    "from asthelpers import *\n",
    "import json\n",
    "import ast\n",
    "\n",
    "ds_ops = import_desynced_ops(path=\"./public/desyncedexport.json\")\n",
    "'''\n",
    "class TestUrl(unittest.TestCase):\n",
    "    def test_make_url_v2(self):\n",
    "        date = datetime.date(2020, 1, 1)\n",
    "        self.assertEqual(make_url(date), \"https://api.example.com/v2/2020/1/1\")\n",
    "        \n",
    "    def test_make_url_v1(self):\n",
    "        date = datetime.date(2019, 12, 31)\n",
    "        self.assertEqual(make_url(date), \"https://api.example.com/v1/2019-12-31\")\n",
    "        \n",
    "res = unittest.main(argv=[''], verbosity=3, exit=False)\n",
    "'''\n"
   ]
  },
  {
   "cell_type": "code",
   "execution_count": 2,
   "id": "92345d44-334a-4f29-8212-1bb50ee9c152",
   "metadata": {},
   "outputs": [
    {
     "name": "stderr",
     "output_type": "stream",
     "text": [
      "\n",
      "----------------------------------------------------------------------\n",
      "Ran 0 tests in 0.000s\n",
      "\n",
      "NO TESTS RAN\n"
     ]
    },
    {
     "data": {
      "text/plain": [
       "<unittest.main.TestProgram at 0x29c098bff20>"
      ]
     },
     "execution_count": 2,
     "metadata": {},
     "output_type": "execute_result"
    }
   ],
   "source": [
    "class TestB62Encoder(unittest.TestCase):\n",
    "    def test_roundtrip(self):\n",
    "        ctx = b62(\"python\")\n",
    "        enced = ctx.encode([\"fish\"])\n",
    "        result = ctx.decode(enced)\n",
    "        self.assertEqual([\"fish\"], result)\n",
    "\n",
    "unittest.main(argv=[''], verbosity=3, exit=False)"
   ]
  },
  {
   "cell_type": "code",
   "execution_count": 41,
   "id": "5d630c22-4a11-485a-b1be-6fca4a366a5f",
   "metadata": {},
   "outputs": [
    {
     "name": "stderr",
     "output_type": "stream",
     "text": [
      "test_just_p1 (__main__.TestParameterNaming.test_just_p1) ... ok\n",
      "test_mixed_names (__main__.TestParameterNaming.test_mixed_names) ... ok\n",
      "test_named_parameter (__main__.TestParameterNaming.test_named_parameter) ... ok\n",
      "test_out_of_order_parameters_unnamed (__main__.TestParameterNaming.test_out_of_order_parameters_unnamed) ... ok\n",
      "test_skip_p2 (__main__.TestParameterNaming.test_skip_p2) ... ok\n",
      "\n",
      "----------------------------------------------------------------------\n",
      "Ran 5 tests in 0.013s\n",
      "\n",
      "OK\n"
     ]
    },
    {
     "name": "stdout",
     "output_type": "stream",
     "text": [
      "[['in', 'To', None, 'coord_num'], ['in', 'Num', None, 'coord_num'], ['out', 'Result']]\n",
      "[['in', 'To', None, 'coord_num'], ['in', 'Num', None, 'coord_num'], ['out', 'Result']]\n"
     ]
    },
    {
     "data": {
      "text/plain": [
       "<unittest.main.TestProgram at 0x1eeb8997b90>"
      ]
     },
     "execution_count": 41,
     "metadata": {},
     "output_type": "execute_result"
    }
   ],
   "source": [
    "def JustOneP(P1):\n",
    "    P1+=2\n",
    "    \n",
    "def SkipP2(P1, P3):\n",
    "    P1+=2\n",
    "\n",
    "def ReversedParameters(P2, P1):\n",
    "    P1+=2\n",
    "\n",
    "def OneNamedParameter(named_parameter_one):\n",
    "    pass\n",
    "\n",
    "def MixedNaming(P1, named, P4, named2):\n",
    "    pass\n",
    "            \n",
    "class TestParameterNaming(unittest.TestCase):\n",
    "    def get_parameter_block(self, code):\n",
    "        if callable(code):\n",
    "            code = inspect.getsource(code)\n",
    "        tree = ast.parse(code, type_comments=False)\n",
    "        tree = replace_binops_with_functions(tree)\n",
    "        tree = flatten_calls(tree)\n",
    "        tree = convert_to_ds_call(tree)\n",
    "        tree = label_frames_vars(tree)\n",
    "        flow_control(tree)\n",
    "        dso = create_dso_from_ast(tree, debug=True)\n",
    "        return dso[\"parameters\"]\n",
    "        \n",
    "    def test_just_p1(self):\n",
    "        pblock = self.get_parameter_block(JustOneP)\n",
    "        self.assertEqual(pblock, ['P1'])\n",
    "        \n",
    "    def test_skip_p2(self):\n",
    "        pblock = self.get_parameter_block(SkipP2)\n",
    "        self.assertEqual(pblock, ['P1', False,'P3'])\n",
    "\n",
    "    def test_out_of_order_parameters_unnamed(self):\n",
    "        self.assertRaises(SyntaxError, lambda : self.get_parameter_block(ReversedParameters))\n",
    "\n",
    "    def test_named_parameter(self):\n",
    "        pblock = self.get_parameter_block(OneNamedParameter)\n",
    "        self.assertEqual(pblock, ['named_parameter_one'])\n",
    "        \n",
    "    def test_mixed_names(self):\n",
    "        pblock = self.get_parameter_block(MixedNaming)\n",
    "        self.assertEqual(pblock, ['P1', 'named',False, 'P4', 'named2'])\n",
    "            \n",
    "\n",
    "\n",
    "unittest.main(argv=[''], verbosity=3, exit=False)\n"
   ]
  }
 ],
 "metadata": {
  "kernelspec": {
   "display_name": "Python 3 (ipykernel)",
   "language": "python",
   "name": "python3"
  },
  "language_info": {
   "codemirror_mode": {
    "name": "ipython",
    "version": 3
   },
   "file_extension": ".py",
   "mimetype": "text/x-python",
   "name": "python",
   "nbconvert_exporter": "python",
   "pygments_lexer": "ipython3",
   "version": "3.12.2"
  }
 },
 "nbformat": 4,
 "nbformat_minor": 5
}
